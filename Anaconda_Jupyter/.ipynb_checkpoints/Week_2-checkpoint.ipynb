{
 "cells": [
  {
   "cell_type": "code",
   "execution_count": null,
   "id": "410ff09c-75e3-4ac1-a1d1-c215d6c60aae",
   "metadata": {},
   "outputs": [],
   "source": [
    "# Week 2 \n",
    "# naming convention tuple- tup sequence- seq list- variablename_list dicts- dict"
   ]
  },
  {
   "cell_type": "code",
   "execution_count": 2,
   "id": "d7b64867-dbf9-4357-a788-3b2a8c8f1409",
   "metadata": {},
   "outputs": [
    {
     "data": {
      "text/plain": [
       "(4, 5, 6)"
      ]
     },
     "execution_count": 2,
     "metadata": {},
     "output_type": "execute_result"
    }
   ],
   "source": [
    "tup=(4,5,6)\n",
    "tup"
   ]
  },
  {
   "cell_type": "code",
   "execution_count": 7,
   "id": "60851dac-0543-4e7a-9780-bd35c7cb31f8",
   "metadata": {},
   "outputs": [
    {
     "data": {
      "text/plain": [
       "(4, 5, 6)"
      ]
     },
     "execution_count": 7,
     "metadata": {},
     "output_type": "execute_result"
    }
   ],
   "source": [
    "tup=4,5,6\n",
    "tup"
   ]
  },
  {
   "cell_type": "code",
   "execution_count": 11,
   "id": "9c221631-bbf5-4278-b7a4-7c616ae816cc",
   "metadata": {},
   "outputs": [
    {
     "name": "stdout",
     "output_type": "stream",
     "text": [
      "4\n",
      "('s', 't', 'r', 'i', 'n', 'g')\n",
      "s\n"
     ]
    }
   ],
   "source": [
    "tup=tuple([4,0,2])\n",
    "print(tup[0])\n",
    "tup=tuple('string')\n",
    "print(tup)\n",
    "print(tup[0])"
   ]
  },
  {
   "cell_type": "code",
   "execution_count": null,
   "id": "786c64ee-228b-4453-86ba-84bb55af088b",
   "metadata": {},
   "outputs": [],
   "source": [
    "nested_tup=(4,5,6,),(7,8) #because the 2 tuples are considered in a tuple too\n",
    "print(nested_tup)\n",
    "print(nested_tup[0])\n",
    "print(nested_tup[1])"
   ]
  },
  {
   "cell_type": "code",
   "execution_count": null,
   "id": "f79e8651-4209-4042-9968-12cdb473bf71",
   "metadata": {},
   "outputs": [],
   "source": [
    "tup=tuple(['foo',[1,2], True])\n",
    "tup(2)=False #error because immutable"
   ]
  },
  {
   "cell_type": "code",
   "execution_count": 17,
   "id": "d7109270-089d-4049-aba3-513be7c0873a",
   "metadata": {},
   "outputs": [
    {
     "data": {
      "text/plain": [
       "('foo', [1, 2, 3], True)"
      ]
     },
     "execution_count": 17,
     "metadata": {},
     "output_type": "execute_result"
    }
   ],
   "source": [
    "tup=tuple(['foo',[1,2], True])\n",
    "tup[1].append(3)\n",
    "tup"
   ]
  },
  {
   "cell_type": "code",
   "execution_count": 21,
   "id": "d6e56150-1510-4523-8815-f21e42ab7e2b",
   "metadata": {},
   "outputs": [
    {
     "data": {
      "text/plain": [
       "(4, None, 'foo', 6, 0, 'bar')"
      ]
     },
     "execution_count": 21,
     "metadata": {},
     "output_type": "execute_result"
    }
   ],
   "source": [
    "(4,None, 'foo')+(6,0)+('bar',)"
   ]
  },
  {
   "cell_type": "code",
   "execution_count": 20,
   "id": "ef880426-7ad4-4f8f-ae62-89506cc805ef",
   "metadata": {},
   "outputs": [
    {
     "data": {
      "text/plain": [
       "('foo', 'bar', 'foo', 'bar', 'foo', 'bar', 'foo', 'bar')"
      ]
     },
     "execution_count": 20,
     "metadata": {},
     "output_type": "execute_result"
    }
   ],
   "source": [
    "('foo','bar')*4"
   ]
  },
  {
   "cell_type": "code",
   "execution_count": 24,
   "id": "b698d509-0bbf-40ff-a58a-704ba563d8d9",
   "metadata": {},
   "outputs": [
    {
     "name": "stdout",
     "output_type": "stream",
     "text": [
      "1   2\n",
      "2   1\n"
     ]
    }
   ],
   "source": [
    "a=1\n",
    "b=2\n",
    "print(a,\" \",b)\n",
    "temp=a\n",
    "a=b\n",
    "b=temp\n",
    "print(a,\" \",b)"
   ]
  },
  {
   "cell_type": "code",
   "execution_count": 25,
   "id": "5e1e476f-d1fa-422f-8e73-08e0005b7f1a",
   "metadata": {},
   "outputs": [
    {
     "name": "stdout",
     "output_type": "stream",
     "text": [
      "1   2\n",
      "2   1\n"
     ]
    }
   ],
   "source": [
    "a=1\n",
    "b=2\n",
    "print(a,\" \",b)\n",
    "a,b=b,a\n",
    "print(a,\" \",b)"
   ]
  },
  {
   "cell_type": "code",
   "execution_count": null,
   "id": "43aebbbe-f792-4e9e-8c24-357d5936146f",
   "metadata": {},
   "outputs": [],
   "source": []
  }
 ],
 "metadata": {
  "kernelspec": {
   "display_name": "Python 3 (ipykernel)",
   "language": "python",
   "name": "python3"
  },
  "language_info": {
   "codemirror_mode": {
    "name": "ipython",
    "version": 3
   },
   "file_extension": ".py",
   "mimetype": "text/x-python",
   "name": "python",
   "nbconvert_exporter": "python",
   "pygments_lexer": "ipython3",
   "version": "3.12.7"
  }
 },
 "nbformat": 4,
 "nbformat_minor": 5
}
