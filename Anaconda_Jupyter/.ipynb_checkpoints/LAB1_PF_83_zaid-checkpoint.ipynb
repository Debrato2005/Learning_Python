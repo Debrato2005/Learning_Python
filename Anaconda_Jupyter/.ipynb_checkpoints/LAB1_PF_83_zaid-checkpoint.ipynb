{
 "cells": [
  {
   "cell_type": "code",
   "execution_count": 10,
   "id": "789419ed",
   "metadata": {},
   "outputs": [
    {
     "name": "stdout",
     "output_type": "stream",
     "text": [
      "Enter number: 5\n",
      "Enter numher: 10\n",
      "Enter +,-,*,/: +\n",
      "a+b = 15\n",
      "Enter +,-,*,/: -\n",
      "a-b = -5\n",
      "Enter +,-,*,/: *\n",
      "a*b = 50\n",
      "Enter +,-,*,/: /\n",
      "a/b = 0.5\n",
      "Enter +,-,*,/: p\n",
      "Wrong Input!\n",
      "Enter +,-,*,/: 0\n"
     ]
    }
   ],
   "source": [
    "# first\n",
    "\n",
    "a = int(input(\"Enter number: \"))\n",
    "b = int(input(\"Enter numher: \"))\n",
    "\n",
    "while True:\n",
    "    p  = input(\"Enter +,-,*,/: \")\n",
    "    if p == \"+\":\n",
    "        print(f\"a+b = {a+b}\")\n",
    "    elif p == \"-\":\n",
    "        print(f\"a-b = {a-b}\")\n",
    "    elif p == \"*\":\n",
    "        print(f\"a*b = {a*b}\")\n",
    "    elif p == \"/\":\n",
    "        print(f\"a/b = {a/b}\")\n",
    "    elif p == \"0\":\n",
    "        break\n",
    "    else:\n",
    "        print(\"Wrong Input!\")"
   ]
  },
  {
   "cell_type": "code",
   "execution_count": 11,
   "id": "c22498d7",
   "metadata": {},
   "outputs": [
    {
     "name": "stdout",
     "output_type": "stream",
     "text": [
      "Enter number: 7\n",
      "7  is prime!\n"
     ]
    }
   ],
   "source": [
    "# return true if prime or else false\n",
    "num = int(input(\"Enter number: \"))\n",
    "isPrime = True\n",
    "for i in range(2,num):\n",
    "    if num % i == 0:\n",
    "        isPrime = False\n",
    "    else:\n",
    "        continue\n",
    "if isPrime == True:\n",
    "    print(num, \" is prime!\")\n",
    "else:\n",
    "    print(f\"{num} is not prime!\")"
   ]
  },
  {
   "cell_type": "code",
   "execution_count": 12,
   "id": "05b4be06",
   "metadata": {},
   "outputs": [
    {
     "name": "stdout",
     "output_type": "stream",
     "text": [
      "list of odd numbers:  [1, 3, 5, 7, 9, 11, 13, 15, 17, 19, 21, 23, 25, 27, 29, 31, 33, 35, 37, 39, 41, 43, 45, 47, 49, 51, 53, 55, 57, 59, 61, 63, 65, 67, 69, 71, 73, 75, 77, 79, 81, 83, 85, 87, 89, 91, 93, 95, 97, 99]\n",
      "Sum of even numbers:  2550\n"
     ]
    }
   ],
   "source": [
    "list_odd = []\n",
    "sum = 0\n",
    "for i in range(1,101):\n",
    "    if i % 2 == 0:\n",
    "        sum = sum + i\n",
    "    else:\n",
    "        list_odd.append(i)\n",
    "print(\"list of odd numbers: \", list_odd)\n",
    "print(\"Sum of even numbers: \", sum)"
   ]
  },
  {
   "cell_type": "code",
   "execution_count": 13,
   "id": "82f14e40",
   "metadata": {},
   "outputs": [
    {
     "name": "stdout",
     "output_type": "stream",
     "text": [
      "Enter first: hello\n",
      "Enter second: world\n",
      "helloworld\n"
     ]
    }
   ],
   "source": [
    "inp1 = input(\"Enter first: \")\n",
    "inp2 = input(\"Enter second: \")\n",
    "\n",
    "if not(inp1.isalpha()):\n",
    "    inp1 = float(inp1)\n",
    "if not(inp2.isalpha()):\n",
    "    inp2 = float(inp2)\n",
    "\n",
    "sum = inp1+inp2\n",
    "print(sum)"
   ]
  },
  {
   "cell_type": "code",
   "execution_count": 19,
   "id": "70fc8cf1",
   "metadata": {},
   "outputs": [
    {
     "name": "stdout",
     "output_type": "stream",
     "text": [
      "String: my name is zaid akhtar PF 83\n",
      "Number of Vowels are:  7\n",
      "Number of consonant are:  13\n"
     ]
    }
   ],
   "source": [
    "str = input(\"String: \")\n",
    "v = [\"a\", \"e\", \"i\", \"o\", \"u\"]\n",
    "count_vowel = 0\n",
    "count_consonant = 0\n",
    "for i in str.lower():\n",
    "    if i in v:\n",
    "        count_vowel += 1\n",
    "    elif i == \" \":\n",
    "        continue\n",
    "    elif i.isdigit():\n",
    "        continue\n",
    "    else:\n",
    "        count_consonant += 1\n",
    "print(\"Number of Vowels are: \", count_vowel)\n",
    "print(\"Number of consonant are: \", count_consonant)"
   ]
  }
 ],
 "metadata": {
  "kernelspec": {
   "display_name": "Python 3 (ipykernel)",
   "language": "python",
   "name": "python3"
  },
  "language_info": {
   "codemirror_mode": {
    "name": "ipython",
    "version": 3
   },
   "file_extension": ".py",
   "mimetype": "text/x-python",
   "name": "python",
   "nbconvert_exporter": "python",
   "pygments_lexer": "ipython3",
   "version": "3.9.13"
  }
 },
 "nbformat": 4,
 "nbformat_minor": 5
}
