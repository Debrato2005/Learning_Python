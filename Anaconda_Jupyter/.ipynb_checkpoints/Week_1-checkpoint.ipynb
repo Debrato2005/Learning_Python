{
 "cells": [
  {
   "cell_type": "code",
   "execution_count": 1,
   "id": "6ac5d3ba-1b3c-4a6f-86a3-3b9898eb5c17",
   "metadata": {},
   "outputs": [
    {
     "name": "stdout",
     "output_type": "stream",
     "text": [
      "Hello\n"
     ]
    }
   ],
   "source": [
    "print(\"Hello\")"
   ]
  },
  {
   "cell_type": "code",
   "execution_count": 5,
   "id": "6aa3e30a-fa18-4e7c-a4e0-0d83bfb78620",
   "metadata": {},
   "outputs": [
    {
     "name": "stdin",
     "output_type": "stream",
     "text": [
      "c dgb\n",
      "d df\n"
     ]
    },
    {
     "name": "stdout",
     "output_type": "stream",
     "text": [
      "dgbdf\n",
      "7\n"
     ]
    }
   ],
   "source": [
    "def fn_add(a,b):\n",
    "    return a+b\n",
    "c=input(\"c\")\n",
    "d=input(\"d\")\n",
    "print(fn_add(c,d))\n",
    "print(fn_add(3,4))"
   ]
  },
  {
   "cell_type": "code",
   "execution_count": null,
   "id": "11189391-95b1-47d4-bb4c-a83d2c36c9a4",
   "metadata": {},
   "outputs": [],
   "source": []
  }
 ],
 "metadata": {
  "kernelspec": {
   "display_name": "Python 3 (ipykernel)",
   "language": "python",
   "name": "python3"
  },
  "language_info": {
   "codemirror_mode": {
    "name": "ipython",
    "version": 3
   },
   "file_extension": ".py",
   "mimetype": "text/x-python",
   "name": "python",
   "nbconvert_exporter": "python",
   "pygments_lexer": "ipython3",
   "version": "3.12.7"
  }
 },
 "nbformat": 4,
 "nbformat_minor": 5
}
