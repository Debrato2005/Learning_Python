{
 "cells": [
  {
   "cell_type": "code",
   "execution_count": 3,
   "id": "02e36791-0b59-43a3-adc3-fcf9347101ed",
   "metadata": {},
   "outputs": [
    {
     "data": {
      "text/plain": [
       "a    10\n",
       "b    20\n",
       "c    30\n",
       "d    40\n",
       "dtype: int64"
      ]
     },
     "execution_count": 3,
     "metadata": {},
     "output_type": "execute_result"
    }
   ],
   "source": [
    "import pandas as pd\n",
    "s=pd.Series([10,20,30,40],index=['a','b','c','d'])\n",
    "s"
   ]
  },
  {
   "cell_type": "code",
   "execution_count": 6,
   "id": "8467d939-c2ea-4e90-b57f-7fccb6d10e4c",
   "metadata": {},
   "outputs": [
    {
     "data": {
      "text/plain": [
       "0    10\n",
       "1    20\n",
       "2    30\n",
       "3    40\n",
       "dtype: int64"
      ]
     },
     "execution_count": 6,
     "metadata": {},
     "output_type": "execute_result"
    }
   ],
   "source": [
    "s=pd.Series([10,20,30,40])\n",
    "s"
   ]
  },
  {
   "cell_type": "code",
   "execution_count": 11,
   "id": "6b197cf0-9a26-48fe-b33f-6de4ba63c6f3",
   "metadata": {},
   "outputs": [
    {
     "data": {
      "text/plain": [
       "Index(['d', 'b', 'a', 'c'], dtype='object')"
      ]
     },
     "execution_count": 11,
     "metadata": {},
     "output_type": "execute_result"
    }
   ],
   "source": [
    "s=pd.Series([10,20,30,40],index=[\"d\",\"b\",\"a\",\"c\"])\n",
    "s.index"
   ]
  },
  {
   "cell_type": "code",
   "execution_count": 13,
   "id": "891a56b9-fbfd-4f51-9618-695b88e28238",
   "metadata": {},
   "outputs": [
    {
     "data": {
      "text/plain": [
       "d     6\n",
       "b    20\n",
       "a    30\n",
       "c    40\n",
       "dtype: int64"
      ]
     },
     "execution_count": 13,
     "metadata": {},
     "output_type": "execute_result"
    }
   ],
   "source": [
    "s[\"d\"]=6\n",
    "s"
   ]
  },
  {
   "cell_type": "code",
   "execution_count": 14,
   "id": "f35dff55-9b21-4e3e-8d1b-8558c0eb2426",
   "metadata": {},
   "outputs": [
    {
     "data": {
      "text/plain": [
       "d    4.034288e+02\n",
       "b    4.851652e+08\n",
       "a    1.068647e+13\n",
       "c    2.353853e+17\n",
       "dtype: float64"
      ]
     },
     "execution_count": 14,
     "metadata": {},
     "output_type": "execute_result"
    }
   ],
   "source": [
    "import numpy as np\n",
    "np.exp(s)\n"
   ]
  },
  {
   "cell_type": "code",
   "execution_count": 5,
   "id": "a9607265-0d86-44a4-896c-9091d48af1b5",
   "metadata": {},
   "outputs": [
    {
     "data": {
      "text/html": [
       "<div>\n",
       "<style scoped>\n",
       "    .dataframe tbody tr th:only-of-type {\n",
       "        vertical-align: middle;\n",
       "    }\n",
       "\n",
       "    .dataframe tbody tr th {\n",
       "        vertical-align: top;\n",
       "    }\n",
       "\n",
       "    .dataframe thead th {\n",
       "        text-align: right;\n",
       "    }\n",
       "</style>\n",
       "<table border=\"1\" class=\"dataframe\">\n",
       "  <thead>\n",
       "    <tr style=\"text-align: right;\">\n",
       "      <th></th>\n",
       "      <th>Name</th>\n",
       "      <th>Age</th>\n",
       "      <th>Stream</th>\n",
       "    </tr>\n",
       "  </thead>\n",
       "  <tbody>\n",
       "    <tr>\n",
       "      <th>0</th>\n",
       "      <td>aryan</td>\n",
       "      <td>18</td>\n",
       "      <td>cce</td>\n",
       "    </tr>\n",
       "    <tr>\n",
       "      <th>1</th>\n",
       "      <td>debrato</td>\n",
       "      <td>19</td>\n",
       "      <td>cce</td>\n",
       "    </tr>\n",
       "    <tr>\n",
       "      <th>2</th>\n",
       "      <td>raiyan</td>\n",
       "      <td>18</td>\n",
       "      <td>chem</td>\n",
       "    </tr>\n",
       "  </tbody>\n",
       "</table>\n",
       "</div>"
      ],
      "text/plain": [
       "      Name  Age Stream\n",
       "0    aryan   18    cce\n",
       "1  debrato   19    cce\n",
       "2   raiyan   18   chem"
      ]
     },
     "execution_count": 5,
     "metadata": {},
     "output_type": "execute_result"
    }
   ],
   "source": [
    "data={'Name':['aryan', 'debrato', 'raiyan'],'Age':[18, 19, 18],'Stream':[\"cce\",\"cce\",\"chem\"]}\n",
    "df=pd.DataFrame(data)\n",
    "df"
   ]
  },
  {
   "cell_type": "code",
   "execution_count": 7,
   "id": "524816bf-f41d-412b-b9dc-eb5d910a8a86",
   "metadata": {},
   "outputs": [
    {
     "name": "stdout",
     "output_type": "stream",
     "text": [
      "      Name  Age Stream\n",
      "0    aryan   18    cce\n",
      "1  debrato   19    cce\n",
      "2   raiyan   18   chem\n"
     ]
    }
   ],
   "source": [
    "print(df)"
   ]
  },
  {
   "cell_type": "code",
   "execution_count": null,
   "id": "d9f37e8a-97f2-4210-8762-9e9501c7c7cc",
   "metadata": {},
   "outputs": [],
   "source": []
  }
 ],
 "metadata": {
  "kernelspec": {
   "display_name": "Python 3 (ipykernel)",
   "language": "python",
   "name": "python3"
  },
  "language_info": {
   "codemirror_mode": {
    "name": "ipython",
    "version": 3
   },
   "file_extension": ".py",
   "mimetype": "text/x-python",
   "name": "python",
   "nbconvert_exporter": "python",
   "pygments_lexer": "ipython3",
   "version": "3.12.7"
  }
 },
 "nbformat": 4,
 "nbformat_minor": 5
}
