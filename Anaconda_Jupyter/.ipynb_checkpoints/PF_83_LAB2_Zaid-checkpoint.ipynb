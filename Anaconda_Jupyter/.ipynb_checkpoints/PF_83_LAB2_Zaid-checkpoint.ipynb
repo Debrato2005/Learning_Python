{
 "cells": [
  {
   "cell_type": "code",
   "execution_count": 2,
   "id": "7e842f80",
   "metadata": {},
   "outputs": [
    {
     "name": "stdout",
     "output_type": "stream",
     "text": [
      "Enter the total number of numbers in the list: 6\n",
      "Enter number1: 1\n",
      "Enter number2: 1\n",
      "Enter number3: 1\n",
      "Enter number4: 2\n",
      "Enter number5: 3\n",
      "Enter number6: 4\n",
      "Maximum number in the list is:  4\n",
      "Minumum number in the list is:  1\n",
      "Average of all the numbers is:  2.0\n",
      "Enter the number for which you want the count: 1\n",
      "the number of occurances of the number 1  is :  3\n"
     ]
    }
   ],
   "source": [
    "#1\n",
    "\n",
    "def listmaking():\n",
    "    list = []\n",
    "    total = int(input(\"Enter the total number of numbers in the list: \"))\n",
    "    for i in range(total):\n",
    "        num = int(input(f\"Enter number{i+1}: \"))\n",
    "        list.append(num)\n",
    "    return list\n",
    "\n",
    "list = listmaking()\n",
    "print(\"Maximum number in the list is: \",max(list))\n",
    "print(\"Minumum number in the list is: \",min(list))\n",
    "print(\"Average of all the numbers is: \",sum(list)/len(list))\n",
    "\n",
    "cnt = int(input(\"Enter the number for which you want the count: \"))\n",
    "print(\"the number of occurances of the number\" ,cnt,\" is : \",list.count(cnt))\n"
   ]
  },
  {
   "cell_type": "code",
   "execution_count": 3,
   "id": "f009b1d1",
   "metadata": {},
   "outputs": [
    {
     "name": "stdout",
     "output_type": "stream",
     "text": [
      "Enter tuple element: 1\n",
      "Enter tuple element: 2\n",
      "Enter tuple element: 3\n",
      "Enter tuple element: 5\n",
      "Enter tuple element: 4\n",
      "Enter the index where you want to change: 2\n",
      "Enter what number you want to add: 1\n",
      "Sorry! you cant change the item of a tuple...\n"
     ]
    }
   ],
   "source": [
    "#2\n",
    "def create_tuple():\n",
    "    list = []\n",
    "    for i in range(5):\n",
    "        num = int(input(\"Enter tuple element: \"))\n",
    "        list.append(num)\n",
    "    return tuple(list)\n",
    "tup = create_tuple()\n",
    "\n",
    "try:\n",
    "    ## replacing an element of the tuple then handling the error\n",
    "    pos = int(input(\"Enter the index where you want to change: \"))\n",
    "    n = int(input(\"Enter what number you want to add: \"))\n",
    "    tup[pos] = n\n",
    "except: \n",
    "    TypeError: print(\"Sorry! you cant change the item of a tuple...\")\n"
   ]
  },
  {
   "cell_type": "code",
   "execution_count": 4,
   "id": "b1266895",
   "metadata": {},
   "outputs": [
    {
     "name": "stdout",
     "output_type": "stream",
     "text": [
      "Enter the number of key,value pair you want to enter: 5\n",
      "Enter the Country name: India\n",
      "In which year India won: 1983\n",
      "Enter the Country name: Pakistan\n",
      "In which year Pakistan won: 1992\n",
      "Enter the Country name: SriLanka\n",
      "In which year SriLanka won: 1996\n",
      "Enter the Country name: Australia\n",
      "In which year Australia won: 1999\n",
      "Enter the Country name: Australia\n",
      "In which year Australia won: 1987\n",
      "Best Performing Country:  Australia\n",
      "All the unique names of contries:  ['India', 'Pakistan', 'SriLanka', 'Australia']\n"
     ]
    }
   ],
   "source": [
    "'''\n",
    "West Indies: 1975, 1979\n",
    "India: 1983, 2011\n",
    "Australia: 1987, 1999, 2003, 2007, 2015, 2023\n",
    "Pakistan: 1992\n",
    "Sri Lanka: 1996\n",
    "'''\n",
    "def dict_worldcup():\n",
    "    dict = {}\n",
    "    n = int(input(\"Enter the number of key,value pair you want to enter: \"))\n",
    "    for i in range(n):\n",
    "        country = input(\"Enter the Country name: \")\n",
    "        year = int(input(f\"In which year {country} won: \"))\n",
    "        dict[year] = country\n",
    "    return dict\n",
    "\n",
    "dict = dict_worldcup()\n",
    "\n",
    "list_countries = []\n",
    "for i in dict.values():\n",
    "    if i not in list_countries:\n",
    "        \n",
    "        list_countries.append(i)\n",
    "\n",
    "dict_count = {}\n",
    "for i in list_countries:\n",
    "    dict_count[ list_countries.count(i)] = i\n",
    "\n",
    "print(\"Best Performing Country: \", dict_count[max(dict_count)])\n",
    "print(\"All the unique names of contries: \", list_countries)\n"
   ]
  },
  {
   "cell_type": "code",
   "execution_count": 6,
   "id": "cac74811",
   "metadata": {},
   "outputs": [
    {
     "name": "stdout",
     "output_type": "stream",
     "text": [
      "Enter String: my name is zaid akhtar my\n",
      "['my', 'name', 'is', 'zaid', 'akhtar', 'my']\n",
      "['my', 'name', 'is', 'zaid', 'akhtar']\n",
      "{'my': 2, 'name': 1, 'is': 1, 'zaid': 1, 'akhtar': 1}\n"
     ]
    }
   ],
   "source": [
    "str = input(\"Enter String: \")\n",
    "list_str = str.split(\" \")\n",
    "list_unique = []\n",
    "for i in list_str:\n",
    "    if i not in list_unique:\n",
    "        list_unique.append(i)\n",
    "\n",
    "print(list_str)\n",
    "print(list_unique)\n",
    "dict_unique = {}\n",
    "for i in list_unique:\n",
    "    dict_unique[i] = list_str.count(i)\n",
    "\n",
    "print(dict_unique)"
   ]
  },
  {
   "cell_type": "code",
   "execution_count": 13,
   "id": "a7c5c036",
   "metadata": {},
   "outputs": [
    {
     "name": "stdout",
     "output_type": "stream",
     "text": [
      "Enter the total amount of number in set1: 5\n",
      "Enter element1 for set1: 1\n",
      "Enter element2 for set1: 2\n",
      "Enter element3 for set1: 3\n",
      "Enter element4 for set1: 4\n",
      "Enter element5 for set1: 5\n",
      "Enter the total amount of number in set2: 5\n",
      "Enter element1 for set2: 5\n",
      "Enter element2 for set2: 4\n",
      "Enter element3 for set2: 3\n",
      "Enter element4 for set2: 2\n",
      "Enter element5 for set2: 2\n",
      "Set1:  [1, 2, 3, 4, 5]\n",
      "Set2:  [5, 4, 3, 2, 2]\n",
      "Union:  [1, 2, 3, 4, 5]\n",
      "Intersection:  [2, 3, 4, 5]\n",
      "difference [-4, -2, 0, 2, 3]\n"
     ]
    }
   ],
   "source": [
    "len1 = int(input(\"Enter the total amount of number in set1: \"))\n",
    "list1 = []\n",
    "for i in range(len1):\n",
    "    num = int(input(f\"Enter element{i+1} for set1: \"))\n",
    "    list1.append(num)\n",
    "len2 = int(input(\"Enter the total amount of number in set2: \"))\n",
    "list2 = []\n",
    "for i in range(len2):\n",
    "    num = int(input(f\"Enter element{i+1} for set2: \"))\n",
    "    list2.append(num)\n",
    "    \n",
    "print(\"Set1: \", list1)\n",
    "print(\"Set2: \", list2)\n",
    "\n",
    "def union(list1,list2):\n",
    "    list3 = []\n",
    "    for i in list1:\n",
    "        if i not in list3:\n",
    "            list3.append(i)\n",
    "    for j in list2:\n",
    "        if j not in list3:\n",
    "            list3.append(j)\n",
    "    return list3\n",
    "def intersection(list1,list2):\n",
    "    list3 = []\n",
    "    for i in list1:\n",
    "        if i not in list3:\n",
    "            if i in list2:\n",
    "                list3.append(i)\n",
    "    return list3\n",
    "\n",
    "def difference_operation(list1,list2):\n",
    "    list3 = []\n",
    "    if len(list1) == len(list2):\n",
    "        for i in range(len(list1)):\n",
    "            list3.append(list1[i]-list2[i])\n",
    "        return list3\n",
    "    else:\n",
    "        return print(\"Cant perform difference operation because length of list is not equal!\")\n",
    "union_list = union(list1,list2)\n",
    "intersection_list = intersection(list1,list2)\n",
    "difference_list = difference_operation(list1,list2)\n",
    "print(\"Union: \", union_list)\n",
    "print(\"Intersection: \", intersection_list)\n",
    "print(\"difference\", difference_list)"
   ]
  },
  {
   "cell_type": "code",
   "execution_count": 11,
   "id": "6ea74f8a",
   "metadata": {},
   "outputs": [],
   "source": [
    "def union(list1,list2):\n",
    "    list3 = []\n",
    "    for i in list1:\n",
    "        if i not in list3:\n",
    "            list3.append(i)\n",
    "    for j in list2:\n",
    "        if j not in list3:\n",
    "            list3.append(j)\n",
    "    return list3\n",
    "def intersection(list1,list2):\n",
    "    list3 = []\n",
    "    for i in list1:\n",
    "        if i not in list3:\n",
    "            if i in list2:\n",
    "                list3.append(i)\n",
    "    return list3\n",
    "\n",
    "def difference operation(list1,list2):\n",
    "    list3 = []\n",
    "    if len(list1) == len(list2):\n",
    "        for i in range(len(list1)):\n",
    "            list3.append(list1[i]-list2[i])\n",
    "        return list3\n",
    "    else:\n",
    "        return print(\"Cant perform difference operation because length of list is not equal!\")"
   ]
  },
  {
   "cell_type": "code",
   "execution_count": null,
   "id": "e013fd72",
   "metadata": {},
   "outputs": [],
   "source": []
  }
 ],
 "metadata": {
  "kernelspec": {
   "display_name": "Python 3 (ipykernel)",
   "language": "python",
   "name": "python3"
  },
  "language_info": {
   "codemirror_mode": {
    "name": "ipython",
    "version": 3
   },
   "file_extension": ".py",
   "mimetype": "text/x-python",
   "name": "python",
   "nbconvert_exporter": "python",
   "pygments_lexer": "ipython3",
   "version": "3.9.13"
  }
 },
 "nbformat": 4,
 "nbformat_minor": 5
}
