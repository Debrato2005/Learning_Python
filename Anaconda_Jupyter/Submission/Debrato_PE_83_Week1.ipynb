{
 "cells": [
  {
   "cell_type": "code",
   "execution_count": 31,
   "id": "e4286e89-3ec8-4bd8-ada0-d93bd81870bc",
   "metadata": {},
   "outputs": [],
   "source": [
    "#Debrato Ghosh\n",
    "#240953708\n",
    "#PE 83\n",
    "#Week_1"
   ]
  },
  {
   "cell_type": "code",
   "execution_count": null,
   "id": "7c4fea29-af56-4f19-aa75-0697ff26cbf7",
   "metadata": {},
   "outputs": [
    {
     "name": "stdin",
     "output_type": "stream",
     "text": [
      "Input first number: 5\n",
      "Input second number: 4\n",
      "Input Operation +,-,*,/ +\n"
     ]
    },
    {
     "name": "stdout",
     "output_type": "stream",
     "text": [
      "Sum= 9.0\n"
     ]
    },
    {
     "name": "stdin",
     "output_type": "stream",
     "text": [
      "Input Operation +,-,*,/ -\n"
     ]
    },
    {
     "name": "stdout",
     "output_type": "stream",
     "text": [
      "Difference= 1.0\n"
     ]
    },
    {
     "name": "stdin",
     "output_type": "stream",
     "text": [
      "Input Operation +,-,*,/ /\n"
     ]
    },
    {
     "name": "stdout",
     "output_type": "stream",
     "text": [
      "Quotient= 1.25\n"
     ]
    },
    {
     "name": "stdin",
     "output_type": "stream",
     "text": [
      "Input Operation +,-,*,/ '\n"
     ]
    },
    {
     "name": "stdout",
     "output_type": "stream",
     "text": [
      "Wrong Input.\n"
     ]
    }
   ],
   "source": [
    "#1.\n",
    "#Write a Python function to input two numbers and perform the\n",
    "#Calculator operations of (+, -, *, /).\n",
    "def fn_calculator():\n",
    "    var_a=float(input(\"Input first number:\"))\n",
    "    var_b=float(input(\"Input second number:\"))\n",
    "\n",
    "    while True:\n",
    "        var_c=input(\"Input Operation +,-,*,/\")\n",
    "        if (var_c==\"+\"):\n",
    "            print(\"Sum=\",(var_a+var_b))\n",
    "        elif (var_c==\"-\"):\n",
    "            print(\"Difference=\",(var_a-var_b))\n",
    "        elif (var_c==\"*\"):\n",
    "            print(\"Product=\",(var_a*var_b))\n",
    "        elif (var_c==\"/\"):\n",
    "            try:\n",
    "                print(\"Quotient=\",(var_a/var_b))\n",
    "            except ZeroDivisionError as e:\n",
    "                print(f\"Error {e}\")\n",
    "        elif (var_c.lower() == \"exit\"):\n",
    "            print(\"Exiting calculator.\")\n",
    "            break\n",
    "        else:\n",
    "            print(\"Wrong Input.\")\n",
    "fn_calculator()\n",
    "\n"
   ]
  },
  {
   "cell_type": "code",
   "execution_count": 1,
   "id": "1459694a-56d5-4049-a482-4bfe38b4bbf7",
   "metadata": {},
   "outputs": [
    {
     "name": "stdin",
     "output_type": "stream",
     "text": [
      "Input the Integer: 9\n"
     ]
    },
    {
     "name": "stdout",
     "output_type": "stream",
     "text": [
      "The number 9 is not prime\n"
     ]
    }
   ],
   "source": [
    "#2.\n",
    "#Write a Python function that takes an integer and returns True if\n",
    "#it’s a prime number and False otherwise.\n",
    "def fn_isPrime(var_1):\n",
    "    \n",
    "    if(var_a>1):\n",
    "        for i in range(2,var_a):\n",
    "            if(var_a%i==0):\n",
    "                return False\n",
    "        return True\n",
    "\n",
    "    else:\n",
    "        return False\n",
    "var_a=int(input(\"Input the Integer:\"))\n",
    "if(fn_isPrime(var_a)):\n",
    "    print(f\"The number {var_a} is prime\")\n",
    "else:\n",
    "    print(f\"The number {var_a} is not prime\")"
   ]
  },
  {
   "cell_type": "code",
   "execution_count": 2,
   "id": "2e7fb06a-3418-4028-8afe-d7f557f43da7",
   "metadata": {},
   "outputs": [
    {
     "name": "stdout",
     "output_type": "stream",
     "text": [
      "The Odd numbers are :  [1, 3, 5, 7, 9, 11, 13, 15, 17, 19, 21, 23, 25, 27, 29, 31, 33, 35, 37, 39, 41, 43, 45, 47, 49, 51, 53, 55, 57, 59, 61, 63, 65, 67, 69, 71, 73, 75, 77, 79, 81, 83, 85, 87, 89, 91, 93, 95, 97, 99]\n",
      "The sum of Even numbers is=  2550\n"
     ]
    }
   ],
   "source": [
    "#3.\n",
    "#Create a Python function that creates a sequence between 1 and\n",
    "#100 and prints all the odd numbers. Compute and display the sum\n",
    "#of all the even numbers.\n",
    "def fn_function():\n",
    "    seq_odd=[]\n",
    "    var_sum=0\n",
    "    for i in range(1 , 101):\n",
    "        if(i%2==0):\n",
    "            var_sum+=i\n",
    "        else:\n",
    "            seq_odd.append(i)\n",
    "    print(\"The Odd numbers are : \", seq_odd)\n",
    "    print(\"The sum of Even numbers is= \", var_sum)\n",
    "fn_function()\n",
    "    "
   ]
  },
  {
   "cell_type": "code",
   "execution_count": 4,
   "id": "14e85ad6-c2dd-4282-9051-42191b9574be",
   "metadata": {},
   "outputs": [
    {
     "name": "stdin",
     "output_type": "stream",
     "text": [
      "Input first number: hello\n",
      "Input second number: world\n"
     ]
    },
    {
     "name": "stdout",
     "output_type": "stream",
     "text": [
      "helloworld\n"
     ]
    }
   ],
   "source": [
    "#4.\n",
    "#Write a Python function to add two elements and display the\n",
    "#result. The elements can be of type integer, float or string.\n",
    "def fn_add():\n",
    "    var_a=input(\"Input first number:\")\n",
    "    var_b=input(\"Input second number:\")\n",
    "    try:\n",
    "        if not var_a.isalpha():\n",
    "            var_a=float(var_a)\n",
    "        if not var_b.isalpha():\n",
    "            var_b=float(var_b)\n",
    "    except Exception:\n",
    "        pass\n",
    "    return var_a+var_b\n",
    "print(fn_add())"
   ]
  },
  {
   "cell_type": "code",
   "execution_count": 5,
   "id": "aae74c27-9684-4741-be52-870bd9578a1a",
   "metadata": {},
   "outputs": [
    {
     "name": "stdin",
     "output_type": "stream",
     "text": [
      "Input the string hello hi\n"
     ]
    },
    {
     "name": "stdout",
     "output_type": "stream",
     "text": [
      "Vowel count= 3\n",
      "Consonant count 4\n"
     ]
    }
   ],
   "source": [
    "#5.\n",
    "#Write a Python function that takes a string input from the user\n",
    "#and counts the number of vowels and consonants in the string.\n",
    "def fn_count():\n",
    "    var_strA=input(\"Input the string\")\n",
    "    var_strvowels=\"aeiouAEIOU\"\n",
    "    var_vcount=0\n",
    "    var_ccount=0\n",
    "    for i in var_strA:\n",
    "        if i.isalpha():\n",
    "            if i in var_strvowels:\n",
    "                var_vcount+=1\n",
    "            else:\n",
    "                var_ccount+=1\n",
    "    print(\"Vowel count=\", var_vcount)\n",
    "    print(\"Consonant count\", var_ccount)\n",
    "\n",
    "fn_count()"
   ]
  }
 ],
 "metadata": {
  "kernelspec": {
   "display_name": "Python 3 (ipykernel)",
   "language": "python",
   "name": "python3"
  },
  "language_info": {
   "codemirror_mode": {
    "name": "ipython",
    "version": 3
   },
   "file_extension": ".py",
   "mimetype": "text/x-python",
   "name": "python",
   "nbconvert_exporter": "python",
   "pygments_lexer": "ipython3",
   "version": "3.12.7"
  }
 },
 "nbformat": 4,
 "nbformat_minor": 5
}
