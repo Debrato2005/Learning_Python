{
 "cells": [
  {
   "cell_type": "code",
   "execution_count": 1,
   "id": "84103cfa-987c-4044-ae76-6e1f8d8dde69",
   "metadata": {},
   "outputs": [],
   "source": [
    "#Debrato Ghosh\n",
    "#240953708\n",
    "#PE 83\n",
    "#Week_2"
   ]
  },
  {
   "cell_type": "code",
   "execution_count": 8,
   "id": "16e3d572-b0ea-4580-8e8e-63d20983b96f",
   "metadata": {},
   "outputs": [
    {
     "name": "stdin",
     "output_type": "stream",
     "text": [
      "Enter limit: 5\n",
      "Enter Number 1 3\n",
      "Enter Number 2 4\n",
      "Enter Number 3 5\n",
      "Enter Number 4 5\n",
      "Enter Number 5 6\n"
     ]
    },
    {
     "name": "stdout",
     "output_type": "stream",
     "text": [
      "The largest element is  6\n",
      "The smallest element is  3\n",
      "The sum of elements is  23\n",
      "The average of elements is  4.6\n"
     ]
    },
    {
     "name": "stdin",
     "output_type": "stream",
     "text": [
      "Enter sepcific number for its count:  5\n"
     ]
    },
    {
     "name": "stdout",
     "output_type": "stream",
     "text": [
      "Count of  5  is  2\n"
     ]
    }
   ],
   "source": [
    "#1.\n",
    "#Write a Python code block that inputs numbers into a list. Print\n",
    "#the largest, smallest, the sum, and the average of the numbers.\n",
    "#Count occurrences of a specific number in the list.\n",
    "def listmaking():\n",
    "    list_a=[]\n",
    "    var_n=int(input(\"Enter limit:\"))\n",
    "    for i in range(var_n):\n",
    "        var_b=int(input(f\"Enter Number {i+1}\")) \n",
    "        list_a.append(var_b)\n",
    "    return list_a\n",
    "list_c=listmaking()\n",
    "print(\"The largest element is \",max(list_c))\n",
    "print(\"The smallest element is \",min(list_c))\n",
    "print(\"The sum of elements is \",sum(list_c))\n",
    "print(\"The average of elements is \",sum(list_c)/len(list_c)) \n",
    "var_oc=int(input(\"Enter sepcific number for its count: \")) \n",
    "print(\"Count of \",var_oc,\" is \",list_c.count(var_oc))"
   ]
  },
  {
   "cell_type": "code",
   "execution_count": 11,
   "id": "b43b7da4-8f4b-4f81-be9c-01077f81e40d",
   "metadata": {},
   "outputs": [
    {
     "name": "stdin",
     "output_type": "stream",
     "text": [
      "Enter Number 1:  1\n",
      "Enter Number 2:  2\n",
      "Enter Number 3:  3\n",
      "Enter Number 4:  4\n",
      "Enter Number 5:  5\n",
      "Input Position:  2\n",
      "Input new element:  3\n"
     ]
    },
    {
     "name": "stdout",
     "output_type": "stream",
     "text": [
      "ERROR: 'tuple' object does not support item assignment\n"
     ]
    }
   ],
   "source": [
    "#2.\n",
    "#Write a Python code block to create a tuple with five elements.\n",
    "#Try to change one of the elements and handle the error that\n",
    "#occurs. Print a message that explains why the error occurred.\n",
    "def tuplemaking():\n",
    "    list_a=[]\n",
    "    for i in range(5):\n",
    "        var_b=int(input(f\"Enter Number {i+1}: \"))\n",
    "        list_a.append(var_b)\n",
    "    tup_a=tuple(list_a)\n",
    "    return tup_a\n",
    "tup_b=tuplemaking()\n",
    "try:\n",
    "    var_pos=int(input(\"Input Position: \")) \n",
    "    var_c=int(input(\"Input new element: \")) \n",
    "    tup_b[var_pos-1]=var_c\n",
    "    print(\"New tuple is: \", tup_b)\n",
    "except TypeError as e:\n",
    "    print (f\"ERROR: {e}\")"
   ]
  },
  {
   "cell_type": "code",
   "execution_count": 24,
   "id": "c74e193c-0907-41c9-9ef5-45cee0727176",
   "metadata": {},
   "outputs": [
    {
     "name": "stdin",
     "output_type": "stream",
     "text": [
      "Enter number of key values:  5\n",
      "Input Winning Year:  1\n",
      "Input country that won: a\n",
      "Input Winning Year:  2\n",
      "Input country that won: b\n",
      "Input Winning Year:  3\n",
      "Input country that won: b\n",
      "Input Winning Year:  4\n",
      "Input country that won: c\n",
      "Input Winning Year:  5\n",
      "Input country that won: d\n"
     ]
    },
    {
     "name": "stdout",
     "output_type": "stream",
     "text": [
      "List of countries that have won:  ['a', 'b', 'b', 'c', 'd']\n",
      "List of unique counties that have won:  ['a', 'b', 'c', 'd']\n",
      "Count of wins for each country:  {'a': 1, 'b': 2, 'c': 1, 'd': 1}\n",
      "Best Performing country:  b\n"
     ]
    }
   ],
   "source": [
    "#3.\n",
    "#Write a Python code block to create a dictionary of cricket World\n",
    "#Cup winners. Let the key be the year; the value is the country that\n",
    "#won the World Cup that year. Print the name of the best\n",
    "#performing country. Display the unique list of countries that\n",
    "#have won the World Cup.\n",
    "'''1975 West Indies\n",
    "1979 West Indies\n",
    "1983 India\n",
    "1987 Australia\n",
    "1992 Pakistan\n",
    "1996 Sri Lanka\n",
    "1999 Australia\n",
    "2003 Australia\n",
    "2007 Australia\n",
    "2011 India\n",
    "2015 Australia\n",
    "2019 England\n",
    "2023 Australia'''\n",
    "def dictmaking():\n",
    "    dict_a={}\n",
    "    var_n=int(input(\"Enter number of key values: \")) \n",
    "    for i in range(var_n):\n",
    "        var_year=int(input(\"Input Winning Year: \"))\n",
    "        var_country=input(\"Input country that won:\") \n",
    "        dict_a[var_year]=var_country\n",
    "    return dict_a\n",
    "dict_b=dictmaking()\n",
    "list_countries=[]\n",
    "for i in dict_b.values():\n",
    "    list_countries.append(i)\n",
    "list_unique=[]\n",
    "for i in dict_b.values():\n",
    "    if i not in list_unique :\n",
    "        list_unique.append(i)\n",
    "dict_count={}\n",
    "for i in list_unique:\n",
    "    dict_count [i]=list_countries.count(i)\n",
    "print(\"List of countries that have won: \", list_countries)\n",
    "print(\"List of unique counties that have won: \", list_unique) \n",
    "print(\"Count of wins for each country: \", dict_count)\n",
    "print(\"Best Performing country: \", max(dict_count, key=dict_count.get)) "
   ]
  },
  {
   "cell_type": "code",
   "execution_count": 28,
   "id": "092b1f0e-7917-4c81-80ad-107aa5086ef1",
   "metadata": {},
   "outputs": [
    {
     "name": "stdin",
     "output_type": "stream",
     "text": [
      "Enter a sentence: hi hello hi bye bye\n"
     ]
    },
    {
     "name": "stdout",
     "output_type": "stream",
     "text": [
      "List of words in the sentence:  ['hi', 'hello', 'hi', 'bye', 'bye']\n",
      "List of unique words in the sentence:  ['hi', 'hello', 'bye']\n",
      "Frequency for each word in the sentence:  {'hi': 2, 'hello': 1, 'bye': 2}\n"
     ]
    }
   ],
   "source": [
    "#4.\n",
    "#Write a Python code block that inputs a sentence from the user.\n",
    "#Count the frequency of each word in the sentence and store the\n",
    "#esult in a dictionary. Prints the dictionary with words as keys\n",
    "#and their frequencies as values.\n",
    "var_strA=input(\"Enter a sentence:\") \n",
    "list_strA=var_strA.split(\" \")\n",
    "list_unique=[]\n",
    "for i in list_strA:\n",
    "    if i not in list_unique :\n",
    "        list_unique.append(i)\n",
    "dict_count={}\n",
    "for i in list_unique:\n",
    "    dict_count[i]=list_strA.count(i)\n",
    "print(\"List of words in the sentence: \", list_strA)\n",
    "print(\"List of unique words in the sentence: \", list_unique) \n",
    "print(\"Frequency for each word in the sentence: \", dict_count)"
   ]
  },
  {
   "cell_type": "code",
   "execution_count": 34,
   "id": "a8bc154a-9c12-4a1b-9208-8c35a4860352",
   "metadata": {},
   "outputs": [
    {
     "name": "stdin",
     "output_type": "stream",
     "text": [
      "Length of first set 5\n",
      "Length of second set 4\n",
      "Enter Number 1 1\n",
      "Enter Number 2 3\n",
      "Enter Number 3 4\n",
      "Enter Number 4 6\n",
      "Enter Number 5 7\n",
      "Enter Number 1 4\n",
      "Enter Number 2 5\n",
      "Enter Number 3 6\n",
      "Enter Number 4 7\n"
     ]
    },
    {
     "name": "stdout",
     "output_type": "stream",
     "text": [
      "Union of the sets is  {1, 3, 4, 5, 6, 7}\n",
      "Intersection of the sets is-  {4, 6, 7}\n",
      "Length is not same\n"
     ]
    }
   ],
   "source": [
    "#5.\n",
    "#Write a Python code block to input numbers into two sets.\n",
    "#Perform union, intersection, and difference operations on the sets\n",
    "#and print the results.\n",
    "list_set1=[]\n",
    "list_set2=[]\n",
    "var_n1=int(input(\"Length of first set\")) \n",
    "var_n2=int(input(\"Length of second set\")) \n",
    "for i in range(var_n1):\n",
    "    var_b=int(input(f\"Enter Number {i+1}\")) \n",
    "    list_set1.append(var_b)\n",
    "for i in range(var_n2):\n",
    "    var_c=int(input(f\"Enter Number {i+1}\")) \n",
    "    list_set2.append(var_c)\n",
    "set1 = set(list_set1)\n",
    "set2 = set(list_set2)\n",
    "print(\"Union of the sets is \", (set1|set2))\n",
    "print(\"Intersection of the sets is- \", (set1&set2))\n",
    "if (len(list_set1)==len(list_set2)):\n",
    "    set3=set1-set2\n",
    "    print(\"Difference of the sets is- \", set3)\n",
    "else:\n",
    "    print(\"Length is not same\")"
   ]
  }
 ],
 "metadata": {
  "kernelspec": {
   "display_name": "Python 3 (ipykernel)",
   "language": "python",
   "name": "python3"
  },
  "language_info": {
   "codemirror_mode": {
    "name": "ipython",
    "version": 3
   },
   "file_extension": ".py",
   "mimetype": "text/x-python",
   "name": "python",
   "nbconvert_exporter": "python",
   "pygments_lexer": "ipython3",
   "version": "3.12.7"
  }
 },
 "nbformat": 4,
 "nbformat_minor": 5
}
