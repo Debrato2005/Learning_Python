{
 "cells": [
  {
   "cell_type": "code",
   "execution_count": 1,
   "id": "f40562b9-e212-4fab-b2f6-4082b2ab78a8",
   "metadata": {},
   "outputs": [],
   "source": [
    "#Debrato Ghosh\n",
    "#240953708\n",
    "#PE 83\n",
    "#Week_3"
   ]
  },
  {
   "cell_type": "code",
   "execution_count": 4,
   "id": "b49314c8-6ea9-411f-b6ba-b16fcaa8331a",
   "metadata": {},
   "outputs": [
    {
     "name": "stdout",
     "output_type": "stream",
     "text": [
      "Array is: \n",
      " [[43 21 45 18]\n",
      " [31 38 35 29]\n",
      " [10 19  4  5]]\n",
      "Mean 24.833333333333332\n",
      "Median=  25.0\n",
      "Standard Deviation= 13.575918221452115\n",
      "Sum of elements =  298\n",
      "Sum of row elements=  [127 133  38]\n",
      "New array is: \n",
      " [[43 21 45 18 31 38]\n",
      " [35 29 10 19  4  5]]\n"
     ]
    }
   ],
   "source": [
    "#1.\n",
    "#Generate a 3x4 NumPy array with random integers between 1 #and 50.\n",
    "#a. Calculate and print the Mean, Median, and Standard Deviation #of the array\n",
    "#b. Print the Sum of all elements and the sum of each row.\n",
    "#c. Reshape the 3x4 array into a 2x6 array and print it.\n",
    "import numpy as np\n",
    "arr_a=np.random.randint(1, 51, size=(3,4))\n",
    "var_mean=np.mean (arr_a)\n",
    "var_median=np.median(arr_a)\n",
    "var_std=np.std(arr_a)\n",
    "var_sum =np.sum(arr_a)\n",
    "var_row_sum=np.sum(arr_a, axis=1)\n",
    "arr_b=arr_a.reshape(2,6)\n",
    "print(\"Array is: \\n\", arr_a)\n",
    "print(\"Mean\", var_mean)\n",
    "print(\"Median= \",var_median)\n",
    "print(\"Standard Deviation=\",var_std)\n",
    "print(\"Sum of elements = \", var_sum)\n",
    "print(\"Sum of row elements= \",var_row_sum)\n",
    "print(\"New array is: \\n\", arr_b)"
   ]
  },
  {
   "cell_type": "code",
   "execution_count": 15,
   "id": "26e569ee-0841-431a-9548-27976b43e4db",
   "metadata": {},
   "outputs": [
    {
     "name": "stdin",
     "output_type": "stream",
     "text": [
      "Input Range lower limit Matrix-1: 0\n",
      "Input Range upper limit Matrix-1: 10\n",
      "Input Range lower limit Matrix-2: 0\n",
      "Input Range upper limit Matrix-2: 10\n"
     ]
    },
    {
     "name": "stdout",
     "output_type": "stream",
     "text": [
      "Matrix 1 is: \n",
      " [[7 7 1]\n",
      " [1 5 5]\n",
      " [9 9 5]]\n",
      "Matrix 2 is: \n",
      " [[7 3 6]\n",
      " [0 0 9]\n",
      " [4 4 2]]\n",
      "Sum of matrices=  [[14 10  7]\n",
      " [ 1  5 14]\n",
      " [13 13  7]]\n",
      "Difference of matrices=  [[ 0  4 -5]\n",
      " [ 1  5 -4]\n",
      " [ 5  5  3]]\n",
      "Elemnentwise multiplication of matrices= \n",
      " [[49 21  6]\n",
      " [ 0  0 45]\n",
      " [36 36 10]]\n",
      "Dot product of matrices= \n",
      " [[ 53  25 107]\n",
      " [ 27  23  61]\n",
      " [ 83  47 145]]\n",
      "Transpose of Matrix 1 is: \n",
      " [[7 1 9]\n",
      " [7 5 9]\n",
      " [1 5 5]]\n",
      "Transpose of Matrix 2 is: \n",
      " [[7 0 4]\n",
      " [3 0 4]\n",
      " [6 9 2]]\n",
      "Determinant of Matrix 1 is:  103.99999999999999\n",
      "Determinant of Matrix 2 is:  -144.0\n",
      "Inverse of Matrix 1 is: \n",
      " [[-1.92307692e-01 -2.50000000e-01  2.88461538e-01]\n",
      " [ 3.84615385e-01  2.50000000e-01 -3.26923077e-01]\n",
      " [-3.46153846e-01  7.68615940e-17  2.69230769e-01]]\n",
      "Inverse of Matrix 2 is: \n",
      " [[ 0.25       -0.125      -0.1875    ]\n",
      " [-0.25        0.06944444  0.4375    ]\n",
      " [ 0.          0.11111111  0.        ]]\n"
     ]
    }
   ],
   "source": [
    "# 2.\n",
    "#Create two (33) matrices using NumPy and print it. Perform #and print the results of the following linear algebra operations\n",
    "#a. Matrix addition\n",
    "#b. Matrix subtraction\n",
    "#c. Matrix multiplication (element-wise and dot product)\n",
    "#d. Transpose of a matrix\n",
    "#e. Determinant and inverse (if applicable)\n",
    "import numpy as np\n",
    "var_a=int(input(\"Input Range lower limit Matrix-1:\")) \n",
    "var_b=int(input(\"Input Range upper limit Matrix-1:\")) \n",
    "arr_mat_a=np.random.randint (var_a, var_b, size=(3,3))\n",
    "\n",
    "var_c=int(input(\"Input Range lower limit Matrix-2:\")) \n",
    "var_d=int(input(\"Input Range upper limit Matrix-2:\")) \n",
    "arr_mat_b=np.random.randint (var_c, var_d, size=(3,3))\n",
    "\n",
    "arr_mat_add=arr_mat_a+arr_mat_b \n",
    "arr_mat_sub=arr_mat_a-arr_mat_b\n",
    "arr_mat_mul=arr_mat_a*arr_mat_b\n",
    "arr_mat_dot=np.dot (arr_mat_a, arr_mat_b)\n",
    "arr_mat_trans_a=arr_mat_a.T\n",
    "arr_mat_trans_b=arr_mat_b.T\n",
    "var_det_a=np.linalg.det (arr_mat_a)\n",
    "var_det_b=np.linalg.det (arr_mat_b)\n",
    "arr_mat_inv_a=np. linalg.inv(arr_mat_a) if var_det_a!=0 else \"Not invertible because determinant zero\" \n",
    "arr_mat_inv_b=np. linalg.inv(arr_mat_b) if var_det_b!=0 else \"Not invertible because determinant zero\"\n",
    "print(\"Matrix 1 is: \\n\", arr_mat_a)\n",
    "print(\"Matrix 2 is: \\n\", arr_mat_b)\n",
    "print(\"Sum of matrices= \", arr_mat_add)\n",
    "print(\"Difference of matrices= \", arr_mat_sub)\n",
    "print(\"Elemnentwise multiplication of matrices= \\n\", arr_mat_mul)\n",
    "print(\"Dot product of matrices= \\n\", arr_mat_dot)\n",
    "print(\"Transpose of Matrix 1 is: \\n\", arr_mat_trans_a)\n",
    "print(\"Transpose of Matrix 2 is: \\n\", arr_mat_trans_b)\n",
    "print(\"Determinant of Matrix 1 is: \", var_det_a)\n",
    "print(\"Determinant of Matrix 2 is: \", var_det_b)\n",
    "print(\"Inverse of Matrix 1 is: \\n\", arr_mat_inv_a) \n",
    "print(\"Inverse of Matrix 2 is: \\n\", arr_mat_inv_b)"
   ]
  }
 ],
 "metadata": {
  "kernelspec": {
   "display_name": "Python 3 (ipykernel)",
   "language": "python",
   "name": "python3"
  },
  "language_info": {
   "codemirror_mode": {
    "name": "ipython",
    "version": 3
   },
   "file_extension": ".py",
   "mimetype": "text/x-python",
   "name": "python",
   "nbconvert_exporter": "python",
   "pygments_lexer": "ipython3",
   "version": "3.12.7"
  }
 },
 "nbformat": 4,
 "nbformat_minor": 5
}
